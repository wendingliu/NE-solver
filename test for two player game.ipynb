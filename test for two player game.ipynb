{
 "cells": [
  {
   "cell_type": "code",
   "execution_count": 1,
   "metadata": {},
   "outputs": [],
   "source": [
    "import numpy as np\n",
    "from scipy import optimize\n",
    "import itertools\n",
    "from game_solver import Game"
   ]
  },
  {
   "cell_type": "code",
   "execution_count": 2,
   "metadata": {},
   "outputs": [
    {
     "name": "stdout",
     "output_type": "stream",
     "text": [
      "payoff matrix:\n",
      "[[[2 1]\n",
      "  [0 0]]\n",
      "\n",
      " [[0 0]\n",
      "  [1 2]]]\n",
      "NE 1: strategy profile: [array([1., 0.]), array([1., 0.])]; value profile: [2. 1.]\n",
      "NE 2: strategy profile: [array([0., 1.]), array([0., 1.])]; value profile: [1. 2.]\n",
      "NE 3: strategy profile: [array([0.66666667, 0.33333333]), array([0.33333333, 0.66666667])]; value profile: [0.66666667 0.66666667]\n",
      "\n",
      "The first NE:  ([array([1., 0.]), array([1., 0.])], array([2., 1.]))\n"
     ]
    }
   ],
   "source": [
    "# test 1\n",
    "# battle of sex\n",
    "# axis0: player 0's action\n",
    "# axis1: player 1's action\n",
    "# axis2: payoff for player 0 and player 1\n",
    "U = np.array([2,1,0,0,0,0,1,2]).reshape(2,2,-1)\n",
    "print('payoff matrix:', U, sep='\\n') # payoff matrix, axis i: player i's action, last axis: payoff vector\n",
    "g = Game(U)\n",
    "NEs = g.ne()\n",
    "i = 1\n",
    "for ne in NEs:\n",
    "    print('NE {}: strategy profile: {}; value profile: {}'.format(i, ne[0], ne[1]))\n",
    "    i+=1\n",
    "    \n",
    "print('\\nThe first NE: ', g.ne(only_one=True))"
   ]
  },
  {
   "cell_type": "code",
   "execution_count": 3,
   "metadata": {},
   "outputs": [
    {
     "name": "stdout",
     "output_type": "stream",
     "text": [
      "payoff matrix:\n",
      "[[[  2   1]\n",
      "  [  0   0]\n",
      "  [100 100]]\n",
      "\n",
      " [[  0   0]\n",
      "  [  1   2]\n",
      "  [100 100]]]\n",
      "NE 1: strategy profile: [array([1., 0.]), array([0., 0., 1.])]; value profile: [100. 100.]\n",
      "NE 2: strategy profile: [array([0., 1.]), array([0., 0., 1.])]; value profile: [100. 100.]\n"
     ]
    }
   ],
   "source": [
    "# test 2 \n",
    "# player 0 has 2 actions, player 1 has 3 actions\n",
    "U = np.array([2,1,0,0,100,100,0,0,1,2,100,100]).reshape(2,3,-1)\n",
    "print('payoff matrix:', U, sep='\\n') # payoff matrix, axis i: player i's action, last axis: payoff vector\n",
    "g = Game(U)\n",
    "NEs = g.ne()\n",
    "i = 1\n",
    "for ne in NEs:\n",
    "    print('NE {}: strategy profile: {}; value profile: {}'.format(i, ne[0], ne[1]))\n",
    "    i+=1"
   ]
  },
  {
   "cell_type": "code",
   "execution_count": 4,
   "metadata": {},
   "outputs": [
    {
     "name": "stdout",
     "output_type": "stream",
     "text": [
      "payoff matrix:\n",
      "[[[-3 -3]\n",
      "  [ 0 -5]]\n",
      "\n",
      " [[-5  0]\n",
      "  [-1 -1]]]\n",
      "NE 1: strategy profile: [array([1., 0.]), array([1., 0.])]; value profile: [-3. -3.]\n"
     ]
    }
   ],
   "source": [
    "# test 3\n",
    "# prisoner's dilemma\n",
    "U = np.array([-3,-3,0,-5,-5,0,-1,-1]).reshape(2,2,-1)\n",
    "print('payoff matrix:', U, sep='\\n') # payoff matrix, axis i: player i's action, last axis: payoff vector\n",
    "g = Game(U)\n",
    "NEs = g.ne()\n",
    "i = 1\n",
    "for ne in NEs:\n",
    "    print('NE {}: strategy profile: {}; value profile: {}'.format(i, ne[0], ne[1]))\n",
    "    i+=1"
   ]
  },
  {
   "cell_type": "code",
   "execution_count": 5,
   "metadata": {},
   "outputs": [
    {
     "name": "stdout",
     "output_type": "stream",
     "text": [
      "payoff matrix:\n",
      "[[[ 0  0]\n",
      "  [-1  1]\n",
      "  [ 1 -1]]\n",
      "\n",
      " [[ 1 -1]\n",
      "  [ 0  0]\n",
      "  [-1  1]]\n",
      "\n",
      " [[-1  1]\n",
      "  [ 1 -1]\n",
      "  [ 0  0]]]\n",
      "NE 1: strategy profile: [array([0.33333333, 0.33333333, 0.33333333]), array([0.33333333, 0.33333333, 0.33333333])]; value profile: [0. 0.]\n"
     ]
    }
   ],
   "source": [
    "# test 4\n",
    "# rock-paper-scissor game\n",
    "# action 0: rock, action 1: paper, action 2: scissor\n",
    "U = np.array([0,0,-1,1,1,-1, 1,-1,0,0,-1,1,-1,1,1,-1,0,0]).reshape(3,3,-1)\n",
    "print('payoff matrix:', U, sep='\\n') # payoff matrix, axis i: player i's action, last axis: payoff vector\n",
    "g = Game(U)\n",
    "NEs = g.ne()\n",
    "i = 1\n",
    "for ne in NEs:\n",
    "    print('NE {}: strategy profile: {}; value profile: {}'.format(i, ne[0], ne[1]))\n",
    "    i+=1"
   ]
  }
 ],
 "metadata": {
  "interpreter": {
   "hash": "a88dd0910aca7aced9b7df778811ae595e3ebfb4a12da0bcb9cc936805726724"
  },
  "kernelspec": {
   "display_name": "Python 3.9.7 ('base')",
   "language": "python",
   "name": "python3"
  },
  "language_info": {
   "codemirror_mode": {
    "name": "ipython",
    "version": 3
   },
   "file_extension": ".py",
   "mimetype": "text/x-python",
   "name": "python",
   "nbconvert_exporter": "python",
   "pygments_lexer": "ipython3",
   "version": "3.9.7"
  },
  "toc": {
   "base_numbering": 1,
   "nav_menu": {},
   "number_sections": true,
   "sideBar": true,
   "skip_h1_title": false,
   "title_cell": "Table of Contents",
   "title_sidebar": "Contents",
   "toc_cell": false,
   "toc_position": {},
   "toc_section_display": true,
   "toc_window_display": false
  },
  "varInspector": {
   "cols": {
    "lenName": 16,
    "lenType": 16,
    "lenVar": 40
   },
   "kernels_config": {
    "python": {
     "delete_cmd_postfix": "",
     "delete_cmd_prefix": "del ",
     "library": "var_list.py",
     "varRefreshCmd": "print(var_dic_list())"
    },
    "r": {
     "delete_cmd_postfix": ") ",
     "delete_cmd_prefix": "rm(",
     "library": "var_list.r",
     "varRefreshCmd": "cat(var_dic_list()) "
    }
   },
   "types_to_exclude": [
    "module",
    "function",
    "builtin_function_or_method",
    "instance",
    "_Feature"
   ],
   "window_display": false
  }
 },
 "nbformat": 4,
 "nbformat_minor": 4
}
