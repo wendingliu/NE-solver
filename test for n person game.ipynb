{
 "cells": [
  {
   "cell_type": "code",
   "execution_count": 1,
   "id": "6c16c551",
   "metadata": {},
   "outputs": [],
   "source": [
    "import numpy as np\n",
    "from game_solver import Game"
   ]
  },
  {
   "cell_type": "code",
   "execution_count": 2,
   "id": "97dc8a74",
   "metadata": {},
   "outputs": [
    {
     "name": "stdout",
     "output_type": "stream",
     "text": [
      "payoff matrix:\n",
      "[[[[2 2 2]\n",
      "   [0 0 0]]\n",
      "\n",
      "  [[0 0 0]\n",
      "   [0 0 0]]]\n",
      "\n",
      "\n",
      " [[[0 0 0]\n",
      "   [0 0 0]]\n",
      "\n",
      "  [[0 0 0]\n",
      "   [2 2 2]]]]\n",
      "NE 1: strategy profile: [array([1., 0.]), array([1., 0.]), array([1., 0.])]; value profile: [2. 2. 2.]\n",
      "NE 2: strategy profile: [array([0., 1.]), array([0., 1.]), array([0., 1.])]; value profile: [2. 2. 2.]\n",
      "NE 3: strategy profile: [array([0.5, 0.5]), array([0.5, 0.5]), array([0.5, 0.5])]; value profile: [0.5 0.5 0.5]\n",
      "\n",
      "The first NE:  ([array([1., 0.]), array([1., 0.]), array([1., 0.])], array([2., 2., 2.]))\n"
     ]
    }
   ],
   "source": [
    "# test 1\n",
    "# three person (coordination) game with two actions\n",
    "# axis0: player 0's action\n",
    "# axis1: player 1's action\n",
    "# axis2: player 2's action\n",
    "# axis3: payoff for three players\n",
    "# mixed NE\n",
    "#A = [[0,1], [0,1], [0,1]]\n",
    "U = np.array([2,2,2]+ [0]*18 +[2,2,2]).reshape(2,2,2,-1)\n",
    "print('payoff matrix:', U, sep='\\n') # payoff matrix, axis i: player i's action, last axis: payoff vector\n",
    "g = Game(U)\n",
    "NEs = g.ne()\n",
    "i = 1\n",
    "for ne in NEs:\n",
    "    print('NE {}: strategy profile: {}; value profile: {}'.format(i, ne[0], ne[1]))\n",
    "    i+=1\n",
    "    \n",
    "print('\\nThe first NE: ', g.ne(only_one=True))"
   ]
  },
  {
   "cell_type": "code",
   "execution_count": 3,
   "id": "b8e19963",
   "metadata": {
    "scrolled": false
   },
   "outputs": [
    {
     "name": "stdout",
     "output_type": "stream",
     "text": [
      "payoff matrix:\n",
      "[[[[2 2 2]\n",
      "   [0 0 0]\n",
      "   [0 0 0]]\n",
      "\n",
      "  [[0 0 0]\n",
      "   [0 0 0]\n",
      "   [0 0 0]]\n",
      "\n",
      "  [[0 0 0]\n",
      "   [0 0 0]\n",
      "   [0 0 0]]]\n",
      "\n",
      "\n",
      " [[[0 0 0]\n",
      "   [0 0 0]\n",
      "   [0 0 0]]\n",
      "\n",
      "  [[0 0 0]\n",
      "   [2 2 2]\n",
      "   [0 0 0]]\n",
      "\n",
      "  [[0 0 0]\n",
      "   [0 0 0]\n",
      "   [0 0 0]]]\n",
      "\n",
      "\n",
      " [[[0 0 0]\n",
      "   [0 0 0]\n",
      "   [0 0 0]]\n",
      "\n",
      "  [[0 0 0]\n",
      "   [0 0 0]\n",
      "   [0 0 0]]\n",
      "\n",
      "  [[0 0 0]\n",
      "   [0 0 0]\n",
      "   [2 2 2]]]]\n",
      "NE 1: strategy profile: [array([1., 0., 0.]), array([1., 0., 0.]), array([1., 0., 0.])]; value profile: [2. 2. 2.]\n",
      "NE 2: strategy profile: [array([1., 0., 0.]), array([0., 1., 0.]), array([0., 0., 1.])]; value profile: [0. 0. 0.]\n",
      "NE 3: strategy profile: [array([1., 0., 0.]), array([0., 0., 1.]), array([0., 1., 0.])]; value profile: [0. 0. 0.]\n",
      "NE 4: strategy profile: [array([0., 1., 0.]), array([1., 0., 0.]), array([0., 0., 1.])]; value profile: [0. 0. 0.]\n",
      "NE 5: strategy profile: [array([0., 1., 0.]), array([0., 1., 0.]), array([0., 1., 0.])]; value profile: [2. 2. 2.]\n",
      "NE 6: strategy profile: [array([0., 1., 0.]), array([0., 0., 1.]), array([1., 0., 0.])]; value profile: [0. 0. 0.]\n",
      "NE 7: strategy profile: [array([0., 0., 1.]), array([1., 0., 0.]), array([0., 1., 0.])]; value profile: [0. 0. 0.]\n",
      "NE 8: strategy profile: [array([0., 0., 1.]), array([0., 1., 0.]), array([1., 0., 0.])]; value profile: [0. 0. 0.]\n",
      "NE 9: strategy profile: [array([0., 0., 1.]), array([0., 0., 1.]), array([0., 0., 1.])]; value profile: [2. 2. 2.]\n",
      "NE 10: strategy profile: [array([0.5, 0.5, 0. ]), array([0.5, 0.5, 0. ]), array([0.5, 0.5, 0. ])]; value profile: [0.5 0.5 0.5]\n",
      "NE 11: strategy profile: [array([0.5, 0. , 0.5]), array([0.5, 0. , 0.5]), array([0.5, 0. , 0.5])]; value profile: [0.5 0.5 0.5]\n",
      "NE 12: strategy profile: [array([0. , 0.5, 0.5]), array([0. , 0.5, 0.5]), array([0. , 0.5, 0.5])]; value profile: [0.5 0.5 0.5]\n",
      "NE 13: strategy profile: [array([0.33333333, 0.33333333, 0.33333333]), array([0.33333333, 0.33333333, 0.33333333]), array([0.33333333, 0.33333333, 0.33333333])]; value profile: [0.22222222 0.22222222 0.22222222]\n",
      "\n",
      "The first NE:  ([array([1., 0., 0.]), array([1., 0., 0.]), array([1., 0., 0.])], array([2., 2., 2.]))\n"
     ]
    }
   ],
   "source": [
    "# test 2\n",
    "# three person (coordination) game with three actions\n",
    "# axis0: player 0's action\n",
    "# axis1: player 1's action\n",
    "# axis2: player 2's action\n",
    "# axis3: payoff vector\n",
    "# mixed NE\n",
    "# A = [[0,1,2], [0,1,2], [0,1,2]]\n",
    "# This game should have 3*2*1 (no coordination) + 3 (perfect coordination) = 9 pure NEs\n",
    "# This game should have 3+1=4 mixed NEs\n",
    "U = np.array([2,2,2]+ [0]*36 + [2,2,2] + [0]*36 +[2,2,2]).reshape(3,3,3,-1)\n",
    "print('payoff matrix:', U, sep='\\n') # payoff matrix, axis i: player i's action, last axis: payoff vector\n",
    "g.U = U\n",
    "NEs = g.ne()\n",
    "i = 1\n",
    "for ne in NEs:\n",
    "    print('NE {}: strategy profile: {}; value profile: {}'.format(i, ne[0], ne[1]))\n",
    "    i+=1\n",
    "    \n",
    "print('\\nThe first NE: ', g.ne(only_one=True))"
   ]
  },
  {
   "cell_type": "code",
   "execution_count": 4,
   "id": "91c63d8b",
   "metadata": {},
   "outputs": [],
   "source": [
    "# test 2\n",
    "# n=2,3,4,5 person (coordination) game with m=2,3,4,5 actions for each player and random payoff matrix\n",
    "g = Game(U=np.array([1]))\n",
    "\n",
    "def time(n, m, only_one=True, method='hybr'):\n",
    "    '''n: number of players\n",
    "    m: number of actions available for each player\n",
    "    only_one=True: the time needed to find the first sample NE\n",
    "    only_one=False: the time needed to find all NEs\n",
    "    method: algorithm used in scipy solver\n",
    "    '''\n",
    "    U = 10*np.random.normal(size=(m**n)*n).reshape((m,)*n+(n,))\n",
    "    g.U = U\n",
    "    t = %timeit -n1 -r1 -o -q g.ne(only_one, method)\n",
    "    return t.average"
   ]
  },
  {
   "cell_type": "code",
   "execution_count": 5,
   "id": "6d2c13d4",
   "metadata": {},
   "outputs": [],
   "source": [
    "# finding just one sample NE\n",
    "n_1_max = 5  # maximum players number in the test\n",
    "m_1_max = 10 # maximum actions number in the test\n",
    "# run time matrix\n",
    "T_one = np.empty((n_1_max-1, m_1_max-1)) # axis0: number of players, axis1: number of actions\n",
    "for n in range(2, n_1_max+1):\n",
    "    for m in range(2, m_1_max+1):        \n",
    "        T_one[n-2,m-2] = time(n, m, only_one=True)\n",
    "        #print(n,m,T_one[n-2,m-2])"
   ]
  },
  {
   "cell_type": "code",
   "execution_count": 6,
   "id": "d35cd36d",
   "metadata": {
    "scrolled": false
   },
   "outputs": [],
   "source": [
    "# finding all NEs\n",
    "n_all_max = 3 # maximum players number in the test\n",
    "m_all_max = 4 # maximum actions number in the test\n",
    "# run time matrix\n",
    "T_all = np.empty((n_all_max-1, m_all_max-1))\n",
    "for n in range(2, n_all_max+1):\n",
    "    for m in range(2, m_all_max+1):\n",
    "        T_all[n-2,m-2] = time(n, m, only_one=False)"
   ]
  },
  {
   "cell_type": "code",
   "execution_count": 7,
   "id": "c869434a",
   "metadata": {},
   "outputs": [
    {
     "data": {
      "image/png": "[encoded data removed]",
      "text/plain": [
       "<Figure size 1152x432 with 2 Axes>"
      ]
     },
     "metadata": {
      "needs_background": "light"
     },
     "output_type": "display_data"
    }
   ],
   "source": [
    "# draw plot\n",
    "import matplotlib.pyplot as plt\n",
    "fig, ax= plt.subplots(1, 2, figsize=(16,6))\n",
    "for n in range(2, n_1_max+1):\n",
    "    ax[0].plot(range(2, m_1_max+1), T_one[n-2], '-o', label='{} players'.format(n))    \n",
    "for n in range(2, n_all_max+1):    \n",
    "    ax[1].plot(range(2, m_all_max+1), T_all[n-2], '-o', label='{} players'.format(n))\n",
    "    ax[0].set_xticks(range(2, m_all_max+1))\n",
    "for i in [0,1]:    \n",
    "    ax[i].set_xlabel('number of actions')\n",
    "    ax[i].set_ylabel('run time (s)')\n",
    "    ax[i].legend()\n",
    "ax[0].set_xticks(range(2, m_1_max+1))\n",
    "ax[1].set_xticks(range(2, m_all_max+1))\n",
    "ax[0].set_title('find one sample NE')\n",
    "ax[1].set_title('find all NEs')\n",
    "fig.suptitle('Running Time Test')\n",
    "plt.show()"
   ]
  }
 ],
 "metadata": {
  "interpreter": {
   "hash": "a88dd0910aca7aced9b7df778811ae595e3ebfb4a12da0bcb9cc936805726724"
  },
  "kernelspec": {
   "display_name": "Python 3.9.7 ('base')",
   "language": "python",
   "name": "python3"
  },
  "language_info": {
   "codemirror_mode": {
    "name": "ipython",
    "version": 3
   },
   "file_extension": ".py",
   "mimetype": "text/x-python",
   "name": "python",
   "nbconvert_exporter": "python",
   "pygments_lexer": "ipython3",
   "version": "3.9.7"
  },
  "toc": {
   "base_numbering": 1,
   "nav_menu": {},
   "number_sections": true,
   "sideBar": true,
   "skip_h1_title": false,
   "title_cell": "Table of Contents",
   "title_sidebar": "Contents",
   "toc_cell": false,
   "toc_position": {},
   "toc_section_display": true,
   "toc_window_display": false
  },
  "varInspector": {
   "cols": {
    "lenName": 16,
    "lenType": 16,
    "lenVar": 40
   },
   "kernels_config": {
    "python": {
     "delete_cmd_postfix": "",
     "delete_cmd_prefix": "del ",
     "library": "var_list.py",
     "varRefreshCmd": "print(var_dic_list())"
    },
    "r": {
     "delete_cmd_postfix": ") ",
     "delete_cmd_prefix": "rm(",
     "library": "var_list.r",
     "varRefreshCmd": "cat(var_dic_list()) "
    }
   },
   "types_to_exclude": [
    "module",
    "function",
    "builtin_function_or_method",
    "instance",
    "_Feature"
   ],
   "window_display": false
  }
 },
 "nbformat": 4,
 "nbformat_minor": 5
}
